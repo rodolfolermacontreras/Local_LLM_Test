{
 "cells": [
  {
   "cell_type": "code",
   "execution_count": 2,
   "id": "bd2384f4",
   "metadata": {},
   "outputs": [],
   "source": [
    "import tensorflow as tf"
   ]
  },
  {
   "cell_type": "code",
   "execution_count": 12,
   "id": "3f584f3b",
   "metadata": {},
   "outputs": [],
   "source": [
    "# pip install numpy==1.23.4"
   ]
  },
  {
   "cell_type": "code",
   "execution_count": 11,
   "id": "89cebb0a",
   "metadata": {},
   "outputs": [
    {
     "name": "stdout",
     "output_type": "stream",
     "text": [
      "Hello, TensorFlow!\r\n"
     ]
    }
   ],
   "source": [
    "#TensorFlow 2\n",
    "import tensorflow as tf \n",
    "msg = tf.constant('Hello, TensorFlow!')\n",
    "tf.print(msg)"
   ]
  }
 ],
 "metadata": {
  "kernelspec": {
   "display_name": "Python 3 (ipykernel)",
   "language": "python",
   "name": "python3"
  },
  "language_info": {
   "codemirror_mode": {
    "name": "ipython",
    "version": 3
   },
   "file_extension": ".py",
   "mimetype": "text/x-python",
   "name": "python",
   "nbconvert_exporter": "python",
   "pygments_lexer": "ipython3",
   "version": "3.9.18"
  }
 },
 "nbformat": 4,
 "nbformat_minor": 5
}
